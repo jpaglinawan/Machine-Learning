{
 "cells": [
  {
   "cell_type": "raw",
   "metadata": {},
   "source": [
    "DATA CLEANING"
   ]
  },
  {
   "cell_type": "code",
   "execution_count": 1,
   "metadata": {},
   "outputs": [],
   "source": [
    "import pandas as pd\n",
    "import numpy as np"
   ]
  },
  {
   "cell_type": "code",
   "execution_count": 2,
   "metadata": {},
   "outputs": [],
   "source": [
    "#loading dataset \n",
    "zynga_raw = pd.read_excel('Zynga Aggregate v2.xlsx', parse_date = 'Comment Date', delimeter= '\\t')"
   ]
  },
  {
   "cell_type": "code",
   "execution_count": 3,
   "metadata": {},
   "outputs": [
    {
     "data": {
      "text/html": [
       "<div>\n",
       "<style scoped>\n",
       "    .dataframe tbody tr th:only-of-type {\n",
       "        vertical-align: middle;\n",
       "    }\n",
       "\n",
       "    .dataframe tbody tr th {\n",
       "        vertical-align: top;\n",
       "    }\n",
       "\n",
       "    .dataframe thead th {\n",
       "        text-align: right;\n",
       "    }\n",
       "</style>\n",
       "<table border=\"1\" class=\"dataframe\">\n",
       "  <thead>\n",
       "    <tr style=\"text-align: right;\">\n",
       "      <th></th>\n",
       "      <th>Comment  Date</th>\n",
       "      <th>Game thankspe</th>\n",
       "      <th>Reply</th>\n",
       "      <th>Comment Message</th>\n",
       "      <th>Likes</th>\n",
       "    </tr>\n",
       "  </thead>\n",
       "  <tbody>\n",
       "    <tr>\n",
       "      <th>0</th>\n",
       "      <td>2019-02-28 21:05:55</td>\n",
       "      <td>HIR</td>\n",
       "      <td>0</td>\n",
       "      <td>iâ€™m going to quit playing hit it rich. it se...</td>\n",
       "      <td>1</td>\n",
       "    </tr>\n",
       "    <tr>\n",
       "      <th>1</th>\n",
       "      <td>2019-02-28 21:57:13</td>\n",
       "      <td>HIR</td>\n",
       "      <td>0</td>\n",
       "      <td>thank you very much for the free coins.</td>\n",
       "      <td>2</td>\n",
       "    </tr>\n",
       "    <tr>\n",
       "      <th>2</th>\n",
       "      <td>2019-02-28 23:09:22</td>\n",
       "      <td>HIR</td>\n",
       "      <td>0</td>\n",
       "      <td>thanks for the bonus coins. ðÿ¤©ðÿ˜žðÿ’°ðÿ’°ðÿ...</td>\n",
       "      <td>2</td>\n",
       "    </tr>\n",
       "    <tr>\n",
       "      <th>3</th>\n",
       "      <td>2019-02-28 21:03:21</td>\n",
       "      <td>HIR</td>\n",
       "      <td>0</td>\n",
       "      <td>thanks for the coins and have a beautiful afte...</td>\n",
       "      <td>1</td>\n",
       "    </tr>\n",
       "    <tr>\n",
       "      <th>4</th>\n",
       "      <td>2019-03-01 01:04:10</td>\n",
       "      <td>HIR</td>\n",
       "      <td>0</td>\n",
       "      <td>thsnk you for this bonus coins and help much a...</td>\n",
       "      <td>2</td>\n",
       "    </tr>\n",
       "  </tbody>\n",
       "</table>\n",
       "</div>"
      ],
      "text/plain": [
       "        Comment  Date Game thankspe  Reply  \\\n",
       "0 2019-02-28 21:05:55           HIR      0   \n",
       "1 2019-02-28 21:57:13           HIR      0   \n",
       "2 2019-02-28 23:09:22           HIR      0   \n",
       "3 2019-02-28 21:03:21           HIR      0   \n",
       "4 2019-03-01 01:04:10           HIR      0   \n",
       "\n",
       "                                     Comment Message  Likes  \n",
       "0  iâ€™m going to quit playing hit it rich. it se...      1  \n",
       "1            thank you very much for the free coins.      2  \n",
       "2  thanks for the bonus coins. ðÿ¤©ðÿ˜žðÿ’°ðÿ’°ðÿ...      2  \n",
       "3  thanks for the coins and have a beautiful afte...      1  \n",
       "4  thsnk you for this bonus coins and help much a...      2  "
      ]
     },
     "execution_count": 3,
     "metadata": {},
     "output_type": "execute_result"
    }
   ],
   "source": [
    "zynga_raw.head()"
   ]
  },
  {
   "cell_type": "code",
   "execution_count": 4,
   "metadata": {},
   "outputs": [
    {
     "name": "stdout",
     "output_type": "stream",
     "text": [
      "<class 'pandas.core.frame.DataFrame'>\n",
      "RangeIndex: 115146 entries, 0 to 115145\n",
      "Data columns (total 5 columns):\n",
      "Comment  Date      115146 non-null datetime64[ns]\n",
      "Game thankspe      115146 non-null object\n",
      "Reply              115146 non-null int64\n",
      "Comment Message    115143 non-null object\n",
      "Likes              115146 non-null int64\n",
      "dtypes: datetime64[ns](1), int64(2), object(2)\n",
      "memory usage: 4.4+ MB\n"
     ]
    }
   ],
   "source": [
    "zynga_raw.info()"
   ]
  },
  {
   "cell_type": "code",
   "execution_count": 5,
   "metadata": {},
   "outputs": [
    {
     "data": {
      "text/html": [
       "<div>\n",
       "<style scoped>\n",
       "    .dataframe tbody tr th:only-of-type {\n",
       "        vertical-align: middle;\n",
       "    }\n",
       "\n",
       "    .dataframe tbody tr th {\n",
       "        vertical-align: top;\n",
       "    }\n",
       "\n",
       "    .dataframe thead th {\n",
       "        text-align: right;\n",
       "    }\n",
       "</style>\n",
       "<table border=\"1\" class=\"dataframe\">\n",
       "  <thead>\n",
       "    <tr style=\"text-align: right;\">\n",
       "      <th></th>\n",
       "      <th>Comment Message</th>\n",
       "      <th>Reply</th>\n",
       "      <th>Likes</th>\n",
       "      <th>Game Type</th>\n",
       "      <th>Comment  Date</th>\n",
       "    </tr>\n",
       "  </thead>\n",
       "  <tbody>\n",
       "    <tr>\n",
       "      <th>0</th>\n",
       "      <td>iâ€™m going to quit playing hit it rich. it se...</td>\n",
       "      <td>0</td>\n",
       "      <td>1</td>\n",
       "      <td>HIR</td>\n",
       "      <td>2019-02-28 21:05:55</td>\n",
       "    </tr>\n",
       "    <tr>\n",
       "      <th>1</th>\n",
       "      <td>thank you very much for the free coins.</td>\n",
       "      <td>0</td>\n",
       "      <td>2</td>\n",
       "      <td>HIR</td>\n",
       "      <td>2019-02-28 21:57:13</td>\n",
       "    </tr>\n",
       "    <tr>\n",
       "      <th>2</th>\n",
       "      <td>thanks for the bonus coins. ðÿ¤©ðÿ˜žðÿ’°ðÿ’°ðÿ...</td>\n",
       "      <td>0</td>\n",
       "      <td>2</td>\n",
       "      <td>HIR</td>\n",
       "      <td>2019-02-28 23:09:22</td>\n",
       "    </tr>\n",
       "    <tr>\n",
       "      <th>3</th>\n",
       "      <td>thanks for the coins and have a beautiful afte...</td>\n",
       "      <td>0</td>\n",
       "      <td>1</td>\n",
       "      <td>HIR</td>\n",
       "      <td>2019-02-28 21:03:21</td>\n",
       "    </tr>\n",
       "    <tr>\n",
       "      <th>4</th>\n",
       "      <td>thsnk you for this bonus coins and help much a...</td>\n",
       "      <td>0</td>\n",
       "      <td>2</td>\n",
       "      <td>HIR</td>\n",
       "      <td>2019-03-01 01:04:10</td>\n",
       "    </tr>\n",
       "  </tbody>\n",
       "</table>\n",
       "</div>"
      ],
      "text/plain": [
       "                                     Comment Message  Reply  Likes Game Type  \\\n",
       "0  iâ€™m going to quit playing hit it rich. it se...      0      1       HIR   \n",
       "1            thank you very much for the free coins.      0      2       HIR   \n",
       "2  thanks for the bonus coins. ðÿ¤©ðÿ˜žðÿ’°ðÿ’°ðÿ...      0      2       HIR   \n",
       "3  thanks for the coins and have a beautiful afte...      0      1       HIR   \n",
       "4  thsnk you for this bonus coins and help much a...      0      2       HIR   \n",
       "\n",
       "        Comment  Date  \n",
       "0 2019-02-28 21:05:55  \n",
       "1 2019-02-28 21:57:13  \n",
       "2 2019-02-28 23:09:22  \n",
       "3 2019-02-28 21:03:21  \n",
       "4 2019-03-01 01:04:10  "
      ]
     },
     "execution_count": 5,
     "metadata": {},
     "output_type": "execute_result"
    }
   ],
   "source": [
    "zynga = zynga_raw[['Comment Message', 'Reply', 'Likes', 'Game thankspe', 'Comment  Date']]\n",
    "zynga = zynga.rename(columns = {'Game thankspe' : 'Game Type'})\n",
    "zynga.head()"
   ]
  },
  {
   "cell_type": "code",
   "execution_count": 6,
   "metadata": {},
   "outputs": [],
   "source": [
    "zynga = zynga.dropna()"
   ]
  },
  {
   "cell_type": "code",
   "execution_count": 7,
   "metadata": {},
   "outputs": [
    {
     "data": {
      "text/plain": [
       "Comment Message    0\n",
       "Reply              0\n",
       "Likes              0\n",
       "Game Type          0\n",
       "Comment  Date      0\n",
       "dtype: int64"
      ]
     },
     "execution_count": 7,
     "metadata": {},
     "output_type": "execute_result"
    }
   ],
   "source": [
    "zynga.isnull().sum()"
   ]
  },
  {
   "cell_type": "code",
   "execution_count": 8,
   "metadata": {},
   "outputs": [],
   "source": [
    "zynga = zynga.sample(frac = 0.1, replace = False, random_state=42)"
   ]
  },
  {
   "cell_type": "code",
   "execution_count": 9,
   "metadata": {},
   "outputs": [],
   "source": [
    "# return the wordnet object value corresponding to the POS tag\n",
    "from nltk.corpus import wordnet\n",
    "\n",
    "def get_wordnet_pos(pos_tag):\n",
    "    if pos_tag.startswith('J'):\n",
    "        return wordnet.ADJ\n",
    "    elif pos_tag.startswith('V'):\n",
    "        return wordnet.VERB\n",
    "    elif pos_tag.startswith('N'):\n",
    "        return wordnet.NOUN\n",
    "    elif pos_tag.startswith('R'):\n",
    "        return wordnet.ADV\n",
    "    else:\n",
    "        return wordnet.NOUN"
   ]
  },
  {
   "cell_type": "code",
   "execution_count": 10,
   "metadata": {},
   "outputs": [
    {
     "name": "stderr",
     "output_type": "stream",
     "text": [
      "[nltk_data] Downloading package words to C:\\Users\\julie\n",
      "[nltk_data]     diana\\AppData\\Roaming\\nltk_data...\n",
      "[nltk_data]   Package words is already up-to-date!\n"
     ]
    },
    {
     "data": {
      "text/plain": [
       "True"
      ]
     },
     "execution_count": 10,
     "metadata": {},
     "output_type": "execute_result"
    }
   ],
   "source": [
    "import string, re\n",
    "from nltk.corpus import stopwords, words\n",
    "from nltk import pos_tag\n",
    "from nltk.tokenize import word_tokenize\n",
    "from nltk.stem import WordNetLemmatizer\n",
    "import nltk\n",
    "nltk.download('words')"
   ]
  },
  {
   "cell_type": "code",
   "execution_count": 11,
   "metadata": {},
   "outputs": [],
   "source": [
    "#removing non english words\n",
    "words = set(nltk.corpus.words.words())"
   ]
  },
  {
   "cell_type": "code",
   "execution_count": 12,
   "metadata": {},
   "outputs": [],
   "source": [
    "def clean_text(text):\n",
    "    # tokenize text and remove punctuation\n",
    "    text = [word.strip(string.punctuation) for word in text.split(\" \")]\n",
    "    # remove words that contain numbers\n",
    "    text = [word for word in text if not any(c.isdigit() for c in word)]\n",
    "    # remove stop words\n",
    "    stop = stopwords.words('english')\n",
    "    text = [x for x in text if x not in stop]\n",
    "    # remove empty tokens\n",
    "    text = [t for t in text if len(t) > 0]\n",
    "    # pos tag text\n",
    "    pos_tags = pos_tag(text)\n",
    "    # lemmatize text\n",
    "    text = [WordNetLemmatizer().lemmatize(t[0], get_wordnet_pos(t[1])) for t in pos_tags]\n",
    "    # remove words with only one letter\n",
    "    text = [t for t in text if len(t) > 1]\n",
    "    # join all\n",
    "    text = \" \".join(text)\n",
    "    return(text)\n",
    "\n",
    "# clean text data\n",
    "zynga[\"Clean Comment\"] = zynga[\"Comment Message\"].apply(lambda x: clean_text(x))"
   ]
  },
  {
   "cell_type": "code",
   "execution_count": 13,
   "metadata": {},
   "outputs": [
    {
     "data": {
      "text/html": [
       "<div>\n",
       "<style scoped>\n",
       "    .dataframe tbody tr th:only-of-type {\n",
       "        vertical-align: middle;\n",
       "    }\n",
       "\n",
       "    .dataframe tbody tr th {\n",
       "        vertical-align: top;\n",
       "    }\n",
       "\n",
       "    .dataframe thead th {\n",
       "        text-align: right;\n",
       "    }\n",
       "</style>\n",
       "<table border=\"1\" class=\"dataframe\">\n",
       "  <thead>\n",
       "    <tr style=\"text-align: right;\">\n",
       "      <th></th>\n",
       "      <th>Comment Message</th>\n",
       "      <th>Reply</th>\n",
       "      <th>Likes</th>\n",
       "      <th>Game Type</th>\n",
       "      <th>Comment  Date</th>\n",
       "      <th>Clean Comment</th>\n",
       "    </tr>\n",
       "  </thead>\n",
       "  <tbody>\n",
       "    <tr>\n",
       "      <th>21077</th>\n",
       "      <td>12 adorable puppies</td>\n",
       "      <td>0</td>\n",
       "      <td>0</td>\n",
       "      <td>HIR</td>\n",
       "      <td>2019-02-03 14:37:59</td>\n",
       "      <td>adorable puppy</td>\n",
       "    </tr>\n",
       "    <tr>\n",
       "      <th>61460</th>\n",
       "      <td>thanks</td>\n",
       "      <td>0</td>\n",
       "      <td>1</td>\n",
       "      <td>HIR</td>\n",
       "      <td>2019-03-26 19:02:03</td>\n",
       "      <td>thanks</td>\n",
       "    </tr>\n",
       "    <tr>\n",
       "      <th>48518</th>\n",
       "      <td>thanks for the freebies.</td>\n",
       "      <td>0</td>\n",
       "      <td>1</td>\n",
       "      <td>HIR</td>\n",
       "      <td>2019-04-18 14:07:06</td>\n",
       "      <td>thanks freebie</td>\n",
       "    </tr>\n",
       "    <tr>\n",
       "      <th>82971</th>\n",
       "      <td>hand one</td>\n",
       "      <td>0</td>\n",
       "      <td>0</td>\n",
       "      <td>POKER</td>\n",
       "      <td>2019-04-23 11:21:17</td>\n",
       "      <td>hand one</td>\n",
       "    </tr>\n",
       "    <tr>\n",
       "      <th>54019</th>\n",
       "      <td>thanks for bonus coins</td>\n",
       "      <td>0</td>\n",
       "      <td>0</td>\n",
       "      <td>HIR</td>\n",
       "      <td>2019-04-08 23:12:29</td>\n",
       "      <td>thanks bonus coin</td>\n",
       "    </tr>\n",
       "  </tbody>\n",
       "</table>\n",
       "</div>"
      ],
      "text/plain": [
       "                Comment Message  Reply  Likes Game Type       Comment  Date  \\\n",
       "21077       12 adorable puppies      0      0       HIR 2019-02-03 14:37:59   \n",
       "61460                    thanks      0      1       HIR 2019-03-26 19:02:03   \n",
       "48518  thanks for the freebies.      0      1       HIR 2019-04-18 14:07:06   \n",
       "82971                  hand one      0      0     POKER 2019-04-23 11:21:17   \n",
       "54019    thanks for bonus coins      0      0       HIR 2019-04-08 23:12:29   \n",
       "\n",
       "           Clean Comment  \n",
       "21077     adorable puppy  \n",
       "61460             thanks  \n",
       "48518     thanks freebie  \n",
       "82971           hand one  \n",
       "54019  thanks bonus coin  "
      ]
     },
     "execution_count": 13,
     "metadata": {},
     "output_type": "execute_result"
    }
   ],
   "source": [
    "zynga.tail()"
   ]
  },
  {
   "cell_type": "code",
   "execution_count": 14,
   "metadata": {},
   "outputs": [],
   "source": [
    "ty_list = ['Thank You','ty','Ty','thanks', 'thankyou','thank you','tysvvm','tyvm','thnx','tx','thank']"
   ]
  },
  {
   "cell_type": "code",
   "execution_count": 20,
   "metadata": {},
   "outputs": [],
   "source": [
    "#removing non english\n",
    "from nltk.tokenize import wordpunct_tokenize\n",
    "\n",
    "def nonenglish(text):\n",
    "    text = (w for w in nltk.wordpunct_tokenize(text) \\\n",
    "         if w.lower() in words or not w.isalpha())\n",
    "    text = [t for t in text if len(t) > 0]\n",
    "    text = \" \".join(text)\n",
    "    return(text)\n",
    "\n",
    "zynga[\"All English\"] = zynga[\"Clean Comment\"].apply(lambda x: nonenglish(x))"
   ]
  },
  {
   "cell_type": "code",
   "execution_count": 25,
   "metadata": {},
   "outputs": [
    {
     "data": {
      "text/html": [
       "<div>\n",
       "<style scoped>\n",
       "    .dataframe tbody tr th:only-of-type {\n",
       "        vertical-align: middle;\n",
       "    }\n",
       "\n",
       "    .dataframe tbody tr th {\n",
       "        vertical-align: top;\n",
       "    }\n",
       "\n",
       "    .dataframe thead th {\n",
       "        text-align: right;\n",
       "    }\n",
       "</style>\n",
       "<table border=\"1\" class=\"dataframe\">\n",
       "  <thead>\n",
       "    <tr style=\"text-align: right;\">\n",
       "      <th></th>\n",
       "      <th>Comment Message</th>\n",
       "      <th>Clean Comment</th>\n",
       "      <th>All English</th>\n",
       "    </tr>\n",
       "  </thead>\n",
       "  <tbody>\n",
       "    <tr>\n",
       "      <th>59023</th>\n",
       "      <td>c</td>\n",
       "      <td></td>\n",
       "      <td></td>\n",
       "    </tr>\n",
       "    <tr>\n",
       "      <th>2954</th>\n",
       "      <td>thanks</td>\n",
       "      <td>thanks</td>\n",
       "      <td>thanks</td>\n",
       "    </tr>\n",
       "    <tr>\n",
       "      <th>4537</th>\n",
       "      <td>c thank you</td>\n",
       "      <td>thank</td>\n",
       "      <td>thank</td>\n",
       "    </tr>\n",
       "    <tr>\n",
       "      <th>28033</th>\n",
       "      <td>a</td>\n",
       "      <td></td>\n",
       "      <td></td>\n",
       "    </tr>\n",
       "    <tr>\n",
       "      <th>13099</th>\n",
       "      <td>a   a pearl is missing on the strand</td>\n",
       "      <td>pearl miss strand</td>\n",
       "      <td>pearl miss strand</td>\n",
       "    </tr>\n",
       "    <tr>\n",
       "      <th>9430</th>\n",
       "      <td>thank you</td>\n",
       "      <td>thank</td>\n",
       "      <td>thank</td>\n",
       "    </tr>\n",
       "    <tr>\n",
       "      <th>103334</th>\n",
       "      <td>i already tried the support or emailed them</td>\n",
       "      <td>already tried support email</td>\n",
       "      <td>already tried support</td>\n",
       "    </tr>\n",
       "    <tr>\n",
       "      <th>17240</th>\n",
       "      <td>a</td>\n",
       "      <td></td>\n",
       "      <td></td>\n",
       "    </tr>\n",
       "    <tr>\n",
       "      <th>69137</th>\n",
       "      <td>it is really exciting , i am just winning away...</td>\n",
       "      <td>really excite win away</td>\n",
       "      <td>really excite win away</td>\n",
       "    </tr>\n",
       "    <tr>\n",
       "      <th>111055</th>\n",
       "      <td>i have did the uninstall and reinstall and sti...</td>\n",
       "      <td>uninstall reinstall still nothing actually rei...</td>\n",
       "      <td>reinstall still nothing actually reinstall tha...</td>\n",
       "    </tr>\n",
       "    <tr>\n",
       "      <th>7751</th>\n",
       "      <td>b</td>\n",
       "      <td></td>\n",
       "      <td></td>\n",
       "    </tr>\n",
       "    <tr>\n",
       "      <th>87380</th>\n",
       "      <td>i wish</td>\n",
       "      <td>wish</td>\n",
       "      <td>wish</td>\n",
       "    </tr>\n",
       "    <tr>\n",
       "      <th>69601</th>\n",
       "      <td>would be very nice to win a japon or 2 ðÿ‘</td>\n",
       "      <td>would nice win japon ðÿ‘</td>\n",
       "      <td>would nice win ‘</td>\n",
       "    </tr>\n",
       "    <tr>\n",
       "      <th>52060</th>\n",
       "      <td>i would like to know why they haven't posted t...</td>\n",
       "      <td>would like know post winner pad</td>\n",
       "      <td>would like know post winner pad</td>\n",
       "    </tr>\n",
       "    <tr>\n",
       "      <th>95094</th>\n",
       "      <td>when will be some turnaments that winner will ...</td>\n",
       "      <td>turnaments winner go real tournament</td>\n",
       "      <td>winner go real tournament</td>\n",
       "    </tr>\n",
       "    <tr>\n",
       "      <th>29159</th>\n",
       "      <td>8, thank you!</td>\n",
       "      <td>thank</td>\n",
       "      <td>thank</td>\n",
       "    </tr>\n",
       "    <tr>\n",
       "      <th>32370</th>\n",
       "      <td>a</td>\n",
       "      <td></td>\n",
       "      <td></td>\n",
       "    </tr>\n",
       "    <tr>\n",
       "      <th>95550</th>\n",
       "      <td>make me win ðÿ˜</td>\n",
       "      <td>make win ðÿ˜</td>\n",
       "      <td>make win ˜</td>\n",
       "    </tr>\n",
       "    <tr>\n",
       "      <th>24251</th>\n",
       "      <td>c is different</td>\n",
       "      <td>different</td>\n",
       "      <td>different</td>\n",
       "    </tr>\n",
       "    <tr>\n",
       "      <th>113450</th>\n",
       "      <td>guest bored sometimes have x3 xp and always us...</td>\n",
       "      <td>guest bore sometimes xp always use cp boost cp...</td>\n",
       "      <td>guest bore sometimes always use boost get quic...</td>\n",
       "    </tr>\n",
       "  </tbody>\n",
       "</table>\n",
       "</div>"
      ],
      "text/plain": [
       "                                          Comment Message  \\\n",
       "59023                                                   c   \n",
       "2954                                               thanks   \n",
       "4537                                          c thank you   \n",
       "28033                                                   a   \n",
       "13099                a   a pearl is missing on the strand   \n",
       "9430                                            thank you   \n",
       "103334        i already tried the support or emailed them   \n",
       "17240                                                   a   \n",
       "69137   it is really exciting , i am just winning away...   \n",
       "111055  i have did the uninstall and reinstall and sti...   \n",
       "7751                                                    b   \n",
       "87380                                              i wish   \n",
       "69601         would be very nice to win a japon or 2 ðÿ‘   \n",
       "52060   i would like to know why they haven't posted t...   \n",
       "95094   when will be some turnaments that winner will ...   \n",
       "29159                                       8, thank you!   \n",
       "32370                                                   a   \n",
       "95550                                    make me win ðÿ˜   \n",
       "24251                                      c is different   \n",
       "113450  guest bored sometimes have x3 xp and always us...   \n",
       "\n",
       "                                            Clean Comment  \\\n",
       "59023                                                       \n",
       "2954                                               thanks   \n",
       "4537                                                thank   \n",
       "28033                                                       \n",
       "13099                                   pearl miss strand   \n",
       "9430                                                thank   \n",
       "103334                        already tried support email   \n",
       "17240                                                       \n",
       "69137                              really excite win away   \n",
       "111055  uninstall reinstall still nothing actually rei...   \n",
       "7751                                                        \n",
       "87380                                                wish   \n",
       "69601                           would nice win japon ðÿ‘   \n",
       "52060                     would like know post winner pad   \n",
       "95094                turnaments winner go real tournament   \n",
       "29159                                               thank   \n",
       "32370                                                       \n",
       "95550                                       make win ðÿ˜   \n",
       "24251                                           different   \n",
       "113450  guest bore sometimes xp always use cp boost cp...   \n",
       "\n",
       "                                              All English  \n",
       "59023                                                      \n",
       "2954                                               thanks  \n",
       "4537                                                thank  \n",
       "28033                                                      \n",
       "13099                                   pearl miss strand  \n",
       "9430                                                thank  \n",
       "103334                              already tried support  \n",
       "17240                                                      \n",
       "69137                              really excite win away  \n",
       "111055  reinstall still nothing actually reinstall tha...  \n",
       "7751                                                       \n",
       "87380                                                wish  \n",
       "69601                                   would nice win ‘  \n",
       "52060                     would like know post winner pad  \n",
       "95094                           winner go real tournament  \n",
       "29159                                               thank  \n",
       "32370                                                      \n",
       "95550                                         make win ˜  \n",
       "24251                                           different  \n",
       "113450  guest bore sometimes always use boost get quic...  "
      ]
     },
     "execution_count": 25,
     "metadata": {},
     "output_type": "execute_result"
    }
   ],
   "source": [
    "#checking if removing the non english words did what it had to do\n",
    "checking = zynga[['Comment Message','Clean Comment', 'All English']]\n",
    "checking.sample(20)"
   ]
  },
  {
   "cell_type": "code",
   "execution_count": 26,
   "metadata": {},
   "outputs": [
    {
     "data": {
      "text/plain": [
       "Comment Message    0\n",
       "Reply              0\n",
       "Likes              0\n",
       "Game Type          0\n",
       "Comment  Date      0\n",
       "Clean Comment      0\n",
       "All English        0\n",
       "dtype: int64"
      ]
     },
     "execution_count": 26,
     "metadata": {},
     "output_type": "execute_result"
    }
   ],
   "source": [
    "#removing null again\n",
    "zynga = zynga.dropna()\n",
    "zynga.isnull().sum()"
   ]
  },
  {
   "cell_type": "code",
   "execution_count": 27,
   "metadata": {},
   "outputs": [
    {
     "data": {
      "text/plain": [
       "(11514, 7)"
      ]
     },
     "execution_count": 27,
     "metadata": {},
     "output_type": "execute_result"
    }
   ],
   "source": [
    "zynga.shape"
   ]
  },
  {
   "cell_type": "raw",
   "metadata": {},
   "source": [
    "FEATURE ENGINEERING"
   ]
  },
  {
   "cell_type": "code",
   "execution_count": 28,
   "metadata": {},
   "outputs": [
    {
     "data": {
      "text/html": [
       "<div>\n",
       "<style scoped>\n",
       "    .dataframe tbody tr th:only-of-type {\n",
       "        vertical-align: middle;\n",
       "    }\n",
       "\n",
       "    .dataframe tbody tr th {\n",
       "        vertical-align: top;\n",
       "    }\n",
       "\n",
       "    .dataframe thead th {\n",
       "        text-align: right;\n",
       "    }\n",
       "</style>\n",
       "<table border=\"1\" class=\"dataframe\">\n",
       "  <thead>\n",
       "    <tr style=\"text-align: right;\">\n",
       "      <th></th>\n",
       "      <th>Clean Comment</th>\n",
       "      <th>All English</th>\n",
       "    </tr>\n",
       "  </thead>\n",
       "  <tbody>\n",
       "    <tr>\n",
       "      <th>16584</th>\n",
       "      <td>thanks coin</td>\n",
       "      <td>thanks coin</td>\n",
       "    </tr>\n",
       "    <tr>\n",
       "      <th>100299</th>\n",
       "      <td>play time high first place</td>\n",
       "      <td>play time high first place</td>\n",
       "    </tr>\n",
       "    <tr>\n",
       "      <th>61266</th>\n",
       "      <td>horse also rectangular pupil goat horse pitch ...</td>\n",
       "      <td>horse also rectangular pupil goat horse pitch ...</td>\n",
       "    </tr>\n",
       "    <tr>\n",
       "      <th>61381</th>\n",
       "      <td>thanksm</td>\n",
       "      <td></td>\n",
       "    </tr>\n",
       "    <tr>\n",
       "      <th>100252</th>\n",
       "      <td>ø§ø®ø¯ùˆ ù…ù†ùš ù¨ù ø¨ù„ùšùˆù†</td>\n",
       "      <td>§ ® ¯ … † ¨ ¨ „ †</td>\n",
       "    </tr>\n",
       "    <tr>\n",
       "      <th>67281</th>\n",
       "      <td>low</td>\n",
       "      <td>low</td>\n",
       "    </tr>\n",
       "    <tr>\n",
       "      <th>39345</th>\n",
       "      <td>thanks breakfast coin</td>\n",
       "      <td>thanks breakfast coin</td>\n",
       "    </tr>\n",
       "    <tr>\n",
       "      <th>68298</th>\n",
       "      <td>lose spin give today...help</td>\n",
       "      <td>lose spin give today ... help</td>\n",
       "    </tr>\n",
       "    <tr>\n",
       "      <th>41550</th>\n",
       "      <td>thanks</td>\n",
       "      <td>thanks</td>\n",
       "    </tr>\n",
       "    <tr>\n",
       "      <th>57008</th>\n",
       "      <td>eyebrow eye color different in(c thanks coin</td>\n",
       "      <td>eyebrow eye color different in ( c thanks coin</td>\n",
       "    </tr>\n",
       "    <tr>\n",
       "      <th>16601</th>\n",
       "      <td>thank hir!ðÿž°</td>\n",
       "      <td>thank ! °</td>\n",
       "    </tr>\n",
       "    <tr>\n",
       "      <th>29861</th>\n",
       "      <td>hi everyone thank hit rich breakfast coin hope...</td>\n",
       "      <td>hi everyone thank hit rich breakfast coin hope...</td>\n",
       "    </tr>\n",
       "    <tr>\n",
       "      <th>77298</th>\n",
       "      <td></td>\n",
       "      <td></td>\n",
       "    </tr>\n",
       "    <tr>\n",
       "      <th>93228</th>\n",
       "      <td>rigeed end thanks</td>\n",
       "      <td>end thanks</td>\n",
       "    </tr>\n",
       "    <tr>\n",
       "      <th>91260</th>\n",
       "      <td>set</td>\n",
       "      <td>set</td>\n",
       "    </tr>\n",
       "    <tr>\n",
       "      <th>38323</th>\n",
       "      <td></td>\n",
       "      <td></td>\n",
       "    </tr>\n",
       "    <tr>\n",
       "      <th>105804</th>\n",
       "      <td>play one way much accomplish day unless play h...</td>\n",
       "      <td>play one way much accomplish day unless play d...</td>\n",
       "    </tr>\n",
       "    <tr>\n",
       "      <th>105221</th>\n",
       "      <td>yeah love</td>\n",
       "      <td>yeah love</td>\n",
       "    </tr>\n",
       "    <tr>\n",
       "      <th>70102</th>\n",
       "      <td>thank hit rich coin</td>\n",
       "      <td>thank hit rich coin</td>\n",
       "    </tr>\n",
       "    <tr>\n",
       "      <th>97365</th>\n",
       "      <td>hand one pair</td>\n",
       "      <td>hand one pair</td>\n",
       "    </tr>\n",
       "    <tr>\n",
       "      <th>1176</th>\n",
       "      <td></td>\n",
       "      <td></td>\n",
       "    </tr>\n",
       "    <tr>\n",
       "      <th>74028</th>\n",
       "      <td>thank much</td>\n",
       "      <td>thank much</td>\n",
       "    </tr>\n",
       "    <tr>\n",
       "      <th>97337</th>\n",
       "      <td>hand best hand</td>\n",
       "      <td>hand best hand</td>\n",
       "    </tr>\n",
       "    <tr>\n",
       "      <th>100049</th>\n",
       "      <td>cezayä± yanlä±åÿlä±kla kabul ettim vardä± kalm...</td>\n",
       "      <td>± ± ± ± ± bu ± ± para ± m ± ±</td>\n",
       "    </tr>\n",
       "    <tr>\n",
       "      <th>28613</th>\n",
       "      <td>thanks</td>\n",
       "      <td>thanks</td>\n",
       "    </tr>\n",
       "    <tr>\n",
       "      <th>67861</th>\n",
       "      <td>low</td>\n",
       "      <td>low</td>\n",
       "    </tr>\n",
       "    <tr>\n",
       "      <th>97636</th>\n",
       "      <td>flush beat pair</td>\n",
       "      <td>flush beat pair</td>\n",
       "    </tr>\n",
       "    <tr>\n",
       "      <th>11010</th>\n",
       "      <td>thanks</td>\n",
       "      <td>thanks</td>\n",
       "    </tr>\n",
       "    <tr>\n",
       "      <th>49873</th>\n",
       "      <td>thank</td>\n",
       "      <td>thank</td>\n",
       "    </tr>\n",
       "    <tr>\n",
       "      <th>1812</th>\n",
       "      <td>thank</td>\n",
       "      <td>thank</td>\n",
       "    </tr>\n",
       "    <tr>\n",
       "      <th>...</th>\n",
       "      <td>...</td>\n",
       "      <td>...</td>\n",
       "    </tr>\n",
       "    <tr>\n",
       "      <th>63952</th>\n",
       "      <td>thanks</td>\n",
       "      <td>thanks</td>\n",
       "    </tr>\n",
       "    <tr>\n",
       "      <th>77773</th>\n",
       "      <td>load</td>\n",
       "      <td>load</td>\n",
       "    </tr>\n",
       "    <tr>\n",
       "      <th>32466</th>\n",
       "      <td>miss number crank open safe</td>\n",
       "      <td>miss number crank open safe</td>\n",
       "    </tr>\n",
       "    <tr>\n",
       "      <th>64258</th>\n",
       "      <td>thanks</td>\n",
       "      <td>thanks</td>\n",
       "    </tr>\n",
       "    <tr>\n",
       "      <th>98525</th>\n",
       "      <td>â™¦â™£â™¥â™ ðÿ‘ˆðÿ‘€hi zynga tell</td>\n",
       "      <td>™¦ ™£ ™¥ ™ ‘ ‘€ hi tell</td>\n",
       "    </tr>\n",
       "    <tr>\n",
       "      <th>90955</th>\n",
       "      <td>alex desplanque ummm...my head hurt statement</td>\n",
       "      <td>... my head hurt statement</td>\n",
       "    </tr>\n",
       "    <tr>\n",
       "      <th>8059</th>\n",
       "      <td></td>\n",
       "      <td></td>\n",
       "    </tr>\n",
       "    <tr>\n",
       "      <th>36124</th>\n",
       "      <td></td>\n",
       "      <td></td>\n",
       "    </tr>\n",
       "    <tr>\n",
       "      <th>39997</th>\n",
       "      <td>thank</td>\n",
       "      <td>thank</td>\n",
       "    </tr>\n",
       "    <tr>\n",
       "      <th>48857</th>\n",
       "      <td></td>\n",
       "      <td></td>\n",
       "    </tr>\n",
       "    <tr>\n",
       "      <th>45634</th>\n",
       "      <td>thank</td>\n",
       "      <td>thank</td>\n",
       "    </tr>\n",
       "    <tr>\n",
       "      <th>4265</th>\n",
       "      <td>letter</td>\n",
       "      <td>letter</td>\n",
       "    </tr>\n",
       "    <tr>\n",
       "      <th>15617</th>\n",
       "      <td>vtf</td>\n",
       "      <td></td>\n",
       "    </tr>\n",
       "    <tr>\n",
       "      <th>104529</th>\n",
       "      <td>second course always beat pr</td>\n",
       "      <td>second course always beat</td>\n",
       "    </tr>\n",
       "    <tr>\n",
       "      <th>38552</th>\n",
       "      <td></td>\n",
       "      <td></td>\n",
       "    </tr>\n",
       "    <tr>\n",
       "      <th>87296</th>\n",
       "      <td>go get yer</td>\n",
       "      <td>go get yer</td>\n",
       "    </tr>\n",
       "    <tr>\n",
       "      <th>83280</th>\n",
       "      <td>ten kicker win hand</td>\n",
       "      <td>ten kicker win hand</td>\n",
       "    </tr>\n",
       "    <tr>\n",
       "      <th>28227</th>\n",
       "      <td>thanks</td>\n",
       "      <td>thanks</td>\n",
       "    </tr>\n",
       "    <tr>\n",
       "      <th>32923</th>\n",
       "      <td>thank</td>\n",
       "      <td>thank</td>\n",
       "    </tr>\n",
       "    <tr>\n",
       "      <th>96977</th>\n",
       "      <td>win pair high card</td>\n",
       "      <td>win pair high card</td>\n",
       "    </tr>\n",
       "    <tr>\n",
       "      <th>99930</th>\n",
       "      <td>really like</td>\n",
       "      <td>really like</td>\n",
       "    </tr>\n",
       "    <tr>\n",
       "      <th>8909</th>\n",
       "      <td>thanks</td>\n",
       "      <td>thanks</td>\n",
       "    </tr>\n",
       "    <tr>\n",
       "      <th>16054</th>\n",
       "      <td></td>\n",
       "      <td></td>\n",
       "    </tr>\n",
       "    <tr>\n",
       "      <th>784</th>\n",
       "      <td></td>\n",
       "      <td></td>\n",
       "    </tr>\n",
       "    <tr>\n",
       "      <th>14503</th>\n",
       "      <td>thanks</td>\n",
       "      <td>thanks</td>\n",
       "    </tr>\n",
       "    <tr>\n",
       "      <th>21077</th>\n",
       "      <td>adorable puppy</td>\n",
       "      <td>adorable puppy</td>\n",
       "    </tr>\n",
       "    <tr>\n",
       "      <th>61460</th>\n",
       "      <td>thanks</td>\n",
       "      <td>thanks</td>\n",
       "    </tr>\n",
       "    <tr>\n",
       "      <th>48518</th>\n",
       "      <td>thanks freebie</td>\n",
       "      <td>thanks</td>\n",
       "    </tr>\n",
       "    <tr>\n",
       "      <th>82971</th>\n",
       "      <td>hand one</td>\n",
       "      <td>hand one</td>\n",
       "    </tr>\n",
       "    <tr>\n",
       "      <th>54019</th>\n",
       "      <td>thanks bonus coin</td>\n",
       "      <td>thanks bonus coin</td>\n",
       "    </tr>\n",
       "  </tbody>\n",
       "</table>\n",
       "<p>100 rows × 2 columns</p>\n",
       "</div>"
      ],
      "text/plain": [
       "                                            Clean Comment  \\\n",
       "16584                                         thanks coin   \n",
       "100299                         play time high first place   \n",
       "61266   horse also rectangular pupil goat horse pitch ...   \n",
       "61381                                             thanksm   \n",
       "100252                     ø§ø®ø¯ùˆ ù…ù†ùš ù¨ù ø¨ù„ùšùˆù†   \n",
       "67281                                                 low   \n",
       "39345                               thanks breakfast coin   \n",
       "68298                         lose spin give today...help   \n",
       "41550                                              thanks   \n",
       "57008        eyebrow eye color different in(c thanks coin   \n",
       "16601                                      thank hir!ðÿž°   \n",
       "29861   hi everyone thank hit rich breakfast coin hope...   \n",
       "77298                                                       \n",
       "93228                                   rigeed end thanks   \n",
       "91260                                                 set   \n",
       "38323                                                       \n",
       "105804  play one way much accomplish day unless play h...   \n",
       "105221                                          yeah love   \n",
       "70102                                 thank hit rich coin   \n",
       "97365                                       hand one pair   \n",
       "1176                                                        \n",
       "74028                                          thank much   \n",
       "97337                                      hand best hand   \n",
       "100049  cezayä± yanlä±åÿlä±kla kabul ettim vardä± kalm...   \n",
       "28613                                              thanks   \n",
       "67861                                                 low   \n",
       "97636                                     flush beat pair   \n",
       "11010                                              thanks   \n",
       "49873                                               thank   \n",
       "1812                                                thank   \n",
       "...                                                   ...   \n",
       "63952                                              thanks   \n",
       "77773                                                load   \n",
       "32466                         miss number crank open safe   \n",
       "64258                                              thanks   \n",
       "98525                   â™¦â™£â™¥â™ ðÿ‘ˆðÿ‘€hi zynga tell   \n",
       "90955       alex desplanque ummm...my head hurt statement   \n",
       "8059                                                        \n",
       "36124                                                       \n",
       "39997                                               thank   \n",
       "48857                                                       \n",
       "45634                                               thank   \n",
       "4265                                               letter   \n",
       "15617                                                 vtf   \n",
       "104529                       second course always beat pr   \n",
       "38552                                                       \n",
       "87296                                          go get yer   \n",
       "83280                                 ten kicker win hand   \n",
       "28227                                              thanks   \n",
       "32923                                               thank   \n",
       "96977                                  win pair high card   \n",
       "99930                                         really like   \n",
       "8909                                               thanks   \n",
       "16054                                                       \n",
       "784                                                         \n",
       "14503                                              thanks   \n",
       "21077                                      adorable puppy   \n",
       "61460                                              thanks   \n",
       "48518                                      thanks freebie   \n",
       "82971                                            hand one   \n",
       "54019                                   thanks bonus coin   \n",
       "\n",
       "                                              All English  \n",
       "16584                                         thanks coin  \n",
       "100299                         play time high first place  \n",
       "61266   horse also rectangular pupil goat horse pitch ...  \n",
       "61381                                                      \n",
       "100252                                  § ® ¯ … † ¨ ¨ „ †  \n",
       "67281                                                 low  \n",
       "39345                               thanks breakfast coin  \n",
       "68298                       lose spin give today ... help  \n",
       "41550                                              thanks  \n",
       "57008      eyebrow eye color different in ( c thanks coin  \n",
       "16601                                           thank ! °  \n",
       "29861   hi everyone thank hit rich breakfast coin hope...  \n",
       "77298                                                      \n",
       "93228                                          end thanks  \n",
       "91260                                                 set  \n",
       "38323                                                      \n",
       "105804  play one way much accomplish day unless play d...  \n",
       "105221                                          yeah love  \n",
       "70102                                 thank hit rich coin  \n",
       "97365                                       hand one pair  \n",
       "1176                                                       \n",
       "74028                                          thank much  \n",
       "97337                                      hand best hand  \n",
       "100049                      ± ± ± ± ± bu ± ± para ± m ± ±  \n",
       "28613                                              thanks  \n",
       "67861                                                 low  \n",
       "97636                                     flush beat pair  \n",
       "11010                                              thanks  \n",
       "49873                                               thank  \n",
       "1812                                                thank  \n",
       "...                                                   ...  \n",
       "63952                                              thanks  \n",
       "77773                                                load  \n",
       "32466                         miss number crank open safe  \n",
       "64258                                              thanks  \n",
       "98525                             ™¦ ™£ ™¥ ™ ‘ ‘€ hi tell  \n",
       "90955                          ... my head hurt statement  \n",
       "8059                                                       \n",
       "36124                                                      \n",
       "39997                                               thank  \n",
       "48857                                                      \n",
       "45634                                               thank  \n",
       "4265                                               letter  \n",
       "15617                                                      \n",
       "104529                          second course always beat  \n",
       "38552                                                      \n",
       "87296                                          go get yer  \n",
       "83280                                 ten kicker win hand  \n",
       "28227                                              thanks  \n",
       "32923                                               thank  \n",
       "96977                                  win pair high card  \n",
       "99930                                         really like  \n",
       "8909                                               thanks  \n",
       "16054                                                      \n",
       "784                                                        \n",
       "14503                                              thanks  \n",
       "21077                                      adorable puppy  \n",
       "61460                                              thanks  \n",
       "48518                                              thanks  \n",
       "82971                                            hand one  \n",
       "54019                                   thanks bonus coin  \n",
       "\n",
       "[100 rows x 2 columns]"
      ]
     },
     "execution_count": 28,
     "metadata": {},
     "output_type": "execute_result"
    }
   ],
   "source": [
    "checkingw = zynga[['Clean Comment', 'All English']]\n",
    "checkingw.tail(100)"
   ]
  },
  {
   "cell_type": "code",
   "execution_count": 29,
   "metadata": {},
   "outputs": [],
   "source": [
    "# add sentiment anaylsis columns\n",
    "from nltk.sentiment.vader import SentimentIntensityAnalyzer\n",
    "\n",
    "sid = SentimentIntensityAnalyzer()\n",
    "zynga[\"Sentiments\"] = zynga[\"All English\"].apply(lambda x: sid.polarity_scores(x))\n",
    "zynga = pd.concat([zynga.drop(['Sentiments'], axis=1), zynga['Sentiments'].apply(pd.Series)], axis=1)"
   ]
  },
  {
   "cell_type": "code",
   "execution_count": 30,
   "metadata": {},
   "outputs": [],
   "source": [
    "# add number of characters column\n",
    "zynga[\"nb_chars\"] = zynga[\"Comment Message\"].apply(lambda x: len(x))\n",
    "\n",
    "# add number of words column\n",
    "zynga[\"nb_words\"] = zynga[\"Comment Message\"].apply(lambda x: len(x.split(\" \")))"
   ]
  },
  {
   "cell_type": "code",
   "execution_count": 31,
   "metadata": {},
   "outputs": [],
   "source": [
    "# create doc2vec vector columns\n",
    "from gensim.test.utils import common_texts\n",
    "from gensim.models.doc2vec import Doc2Vec, TaggedDocument"
   ]
  },
  {
   "cell_type": "code",
   "execution_count": 32,
   "metadata": {},
   "outputs": [
    {
     "name": "stderr",
     "output_type": "stream",
     "text": [
      "C:\\Users\\julie diana\\Anaconda3\\lib\\site-packages\\gensim\\models\\base_any2vec.py:743: UserWarning: C extension not loaded, training will be slow. Install a C compiler and reinstall gensim for fast training.\n",
      "  \"C extension not loaded, training will be slow. \"\n"
     ]
    }
   ],
   "source": [
    "documents = [TaggedDocument(doc, [i]) for i, doc in enumerate(zynga[\"All English\"].apply(lambda x: x.split(\" \")))]\n",
    "\n",
    "# train a Doc2Vec model with our text data\n",
    "model = Doc2Vec(documents, vector_size=5, window=2, min_count=1, workers=4)\n",
    "\n",
    "# transform each document into a vector data\n",
    "doc2vec_df = zynga[\"All English\"].apply(lambda x: model.infer_vector(x.split(\" \"))).apply(pd.Series)\n",
    "doc2vec_df.columns = [\"doc2vec_vector_\" + str(x) for x in doc2vec_df.columns]\n",
    "zynga = pd.concat([zynga, doc2vec_df], axis=1)"
   ]
  },
  {
   "cell_type": "code",
   "execution_count": 33,
   "metadata": {},
   "outputs": [],
   "source": [
    "# add tf-idfs columns\n",
    "from sklearn.feature_extraction.text import TfidfVectorizer\n",
    "tfidf = TfidfVectorizer(min_df = 10)\n",
    "tfidf_result = tfidf.fit_transform(zynga[\"All English\"]).toarray()\n",
    "tfidf_df = pd.DataFrame(tfidf_result, columns = tfidf.get_feature_names())\n",
    "tfidf_df.columns = [\"word_\" + str(x) for x in tfidf_df.columns]\n",
    "tfidf_df.index = zynga.index\n",
    "zynga = pd.concat([zynga, tfidf_df], axis=1)"
   ]
  },
  {
   "cell_type": "code",
   "execution_count": 34,
   "metadata": {
    "scrolled": true
   },
   "outputs": [
    {
     "data": {
      "text/html": [
       "<div>\n",
       "<style scoped>\n",
       "    .dataframe tbody tr th:only-of-type {\n",
       "        vertical-align: middle;\n",
       "    }\n",
       "\n",
       "    .dataframe tbody tr th {\n",
       "        vertical-align: top;\n",
       "    }\n",
       "\n",
       "    .dataframe thead th {\n",
       "        text-align: right;\n",
       "    }\n",
       "</style>\n",
       "<table border=\"1\" class=\"dataframe\">\n",
       "  <thead>\n",
       "    <tr style=\"text-align: right;\">\n",
       "      <th></th>\n",
       "      <th>Comment Message</th>\n",
       "      <th>Reply</th>\n",
       "      <th>Likes</th>\n",
       "      <th>Game Type</th>\n",
       "      <th>Comment  Date</th>\n",
       "      <th>Clean Comment</th>\n",
       "      <th>All English</th>\n",
       "      <th>neg</th>\n",
       "      <th>neu</th>\n",
       "      <th>pos</th>\n",
       "      <th>...</th>\n",
       "      <th>word_wrong</th>\n",
       "      <th>word_ya</th>\n",
       "      <th>word_yeah</th>\n",
       "      <th>word_year</th>\n",
       "      <th>word_yes</th>\n",
       "      <th>word_yesterday</th>\n",
       "      <th>word_yet</th>\n",
       "      <th>word_yo</th>\n",
       "      <th>word_you</th>\n",
       "      <th>word_zero</th>\n",
       "    </tr>\n",
       "  </thead>\n",
       "  <tbody>\n",
       "    <tr>\n",
       "      <th>53594</th>\n",
       "      <td>i agree we should be able to use all of the fr...</td>\n",
       "      <td>1</td>\n",
       "      <td>4</td>\n",
       "      <td>HIR</td>\n",
       "      <td>2019-04-09 22:12:19</td>\n",
       "      <td>agree able use free spin get friends...and los...</td>\n",
       "      <td>agree able use free spin get ... and lose coin...</td>\n",
       "      <td>0.124</td>\n",
       "      <td>0.461</td>\n",
       "      <td>0.415</td>\n",
       "      <td>...</td>\n",
       "      <td>0.0</td>\n",
       "      <td>0.0</td>\n",
       "      <td>0.0</td>\n",
       "      <td>0.0</td>\n",
       "      <td>0.0</td>\n",
       "      <td>0.0</td>\n",
       "      <td>0.0</td>\n",
       "      <td>0.0</td>\n",
       "      <td>0.0</td>\n",
       "      <td>0.0</td>\n",
       "    </tr>\n",
       "  </tbody>\n",
       "</table>\n",
       "<p>1 rows × 543 columns</p>\n",
       "</div>"
      ],
      "text/plain": [
       "                                         Comment Message  Reply  Likes  \\\n",
       "53594  i agree we should be able to use all of the fr...      1      4   \n",
       "\n",
       "      Game Type       Comment  Date  \\\n",
       "53594       HIR 2019-04-09 22:12:19   \n",
       "\n",
       "                                           Clean Comment  \\\n",
       "53594  agree able use free spin get friends...and los...   \n",
       "\n",
       "                                             All English    neg    neu    pos  \\\n",
       "53594  agree able use free spin get ... and lose coin...  0.124  0.461  0.415   \n",
       "\n",
       "         ...      word_wrong  word_ya  word_yeah  word_year  word_yes  \\\n",
       "53594    ...             0.0      0.0        0.0        0.0       0.0   \n",
       "\n",
       "       word_yesterday  word_yet  word_yo  word_you  word_zero  \n",
       "53594             0.0       0.0      0.0       0.0        0.0  \n",
       "\n",
       "[1 rows x 543 columns]"
      ]
     },
     "execution_count": 34,
     "metadata": {},
     "output_type": "execute_result"
    }
   ],
   "source": [
    "zynga.head(1)"
   ]
  },
  {
   "cell_type": "code",
   "execution_count": 35,
   "metadata": {},
   "outputs": [
    {
     "data": {
      "text/plain": [
       "(11514, 543)"
      ]
     },
     "execution_count": 35,
     "metadata": {},
     "output_type": "execute_result"
    }
   ],
   "source": [
    "zynga.shape"
   ]
  },
  {
   "cell_type": "raw",
   "metadata": {},
   "source": [
    "EXPLORATORY DATA ANALYSIS"
   ]
  },
  {
   "cell_type": "code",
   "execution_count": 36,
   "metadata": {},
   "outputs": [
    {
     "data": {
      "text/plain": [
       "0    10237\n",
       "1     1277\n",
       "Name: Reply, dtype: int64"
      ]
     },
     "execution_count": 36,
     "metadata": {},
     "output_type": "execute_result"
    }
   ],
   "source": [
    "# show Reply distribution\n",
    "zynga[\"Reply\"].value_counts()"
   ]
  },
  {
   "cell_type": "code",
   "execution_count": 37,
   "metadata": {},
   "outputs": [],
   "source": [
    "import matplotlib.pyplot as plt\n",
    "import seaborn as sns"
   ]
  },
  {
   "cell_type": "code",
   "execution_count": 38,
   "metadata": {},
   "outputs": [
    {
     "data": {
      "text/plain": [
       "Text(0.5, 1.0, 'Comment Thread Distribution')"
      ]
     },
     "execution_count": 38,
     "metadata": {},
     "output_type": "execute_result"
    },
    {
     "data": {
      "image/png": "[encoded data removed]",
      "text/plain": [
       "<Figure size 432x288 with 1 Axes>"
      ]
     },
     "metadata": {
      "needs_background": "light"
     },
     "output_type": "display_data"
    }
   ],
   "source": [
    "#distribution of imbalanced class\n",
    "sns.countplot(zynga['Reply'])\n",
    "#sns.countplot(kill.manner_of_death)\n",
    "plt.title(\"Comment Thread Distribution\",color = 'black',fontsize=12)"
   ]
  },
  {
   "cell_type": "code",
   "execution_count": 39,
   "metadata": {},
   "outputs": [
    {
     "data": {
      "text/html": [
       "<div>\n",
       "<style scoped>\n",
       "    .dataframe tbody tr th:only-of-type {\n",
       "        vertical-align: middle;\n",
       "    }\n",
       "\n",
       "    .dataframe tbody tr th {\n",
       "        vertical-align: top;\n",
       "    }\n",
       "\n",
       "    .dataframe thead th {\n",
       "        text-align: right;\n",
       "    }\n",
       "</style>\n",
       "<table border=\"1\" class=\"dataframe\">\n",
       "  <thead>\n",
       "    <tr style=\"text-align: right;\">\n",
       "      <th></th>\n",
       "      <th>All English</th>\n",
       "      <th>neu</th>\n",
       "      <th>pos</th>\n",
       "      <th>neg</th>\n",
       "    </tr>\n",
       "  </thead>\n",
       "  <tbody>\n",
       "    <tr>\n",
       "      <th>114996</th>\n",
       "      <td>mine make that ' s odd</td>\n",
       "      <td>0.566</td>\n",
       "      <td>0.000</td>\n",
       "      <td>0.434</td>\n",
       "    </tr>\n",
       "    <tr>\n",
       "      <th>7335</th>\n",
       "      <td></td>\n",
       "      <td>0.000</td>\n",
       "      <td>0.000</td>\n",
       "      <td>0.000</td>\n",
       "    </tr>\n",
       "    <tr>\n",
       "      <th>79940</th>\n",
       "      <td>thank</td>\n",
       "      <td>0.000</td>\n",
       "      <td>1.000</td>\n",
       "      <td>0.000</td>\n",
       "    </tr>\n",
       "    <tr>\n",
       "      <th>112586</th>\n",
       "      <td>dae especially put thing sale</td>\n",
       "      <td>1.000</td>\n",
       "      <td>0.000</td>\n",
       "      <td>0.000</td>\n",
       "    </tr>\n",
       "    <tr>\n",
       "      <th>64982</th>\n",
       "      <td>could use huge win again . not get coin think ...</td>\n",
       "      <td>0.663</td>\n",
       "      <td>0.337</td>\n",
       "      <td>0.000</td>\n",
       "    </tr>\n",
       "    <tr>\n",
       "      <th>40991</th>\n",
       "      <td>thank</td>\n",
       "      <td>0.000</td>\n",
       "      <td>1.000</td>\n",
       "      <td>0.000</td>\n",
       "    </tr>\n",
       "    <tr>\n",
       "      <th>25405</th>\n",
       "      <td></td>\n",
       "      <td>0.000</td>\n",
       "      <td>0.000</td>\n",
       "      <td>0.000</td>\n",
       "    </tr>\n",
       "    <tr>\n",
       "      <th>94650</th>\n",
       "      <td>message send kindly respond positively thanks</td>\n",
       "      <td>0.240</td>\n",
       "      <td>0.760</td>\n",
       "      <td>0.000</td>\n",
       "    </tr>\n",
       "    <tr>\n",
       "      <th>3231</th>\n",
       "      <td>thanks</td>\n",
       "      <td>0.000</td>\n",
       "      <td>1.000</td>\n",
       "      <td>0.000</td>\n",
       "    </tr>\n",
       "    <tr>\n",
       "      <th>37937</th>\n",
       "      <td>thanks</td>\n",
       "      <td>0.000</td>\n",
       "      <td>1.000</td>\n",
       "      <td>0.000</td>\n",
       "    </tr>\n",
       "  </tbody>\n",
       "</table>\n",
       "</div>"
      ],
      "text/plain": [
       "                                              All English    neu    pos    neg\n",
       "114996                             mine make that ' s odd  0.566  0.000  0.434\n",
       "7335                                                       0.000  0.000  0.000\n",
       "79940                                               thank  0.000  1.000  0.000\n",
       "112586                      dae especially put thing sale  1.000  0.000  0.000\n",
       "64982   could use huge win again . not get coin think ...  0.663  0.337  0.000\n",
       "40991                                               thank  0.000  1.000  0.000\n",
       "25405                                                      0.000  0.000  0.000\n",
       "94650       message send kindly respond positively thanks  0.240  0.760  0.000\n",
       "3231                                               thanks  0.000  1.000  0.000\n",
       "37937                                              thanks  0.000  1.000  0.000"
      ]
     },
     "execution_count": 39,
     "metadata": {},
     "output_type": "execute_result"
    }
   ],
   "source": [
    "checkingsentiment = zynga[['All English', 'neu', 'pos', 'neg']].sample(n=10)\n",
    "checkingsentiment"
   ]
  },
  {
   "cell_type": "code",
   "execution_count": 40,
   "metadata": {},
   "outputs": [],
   "source": [
    "# wordcloud function\n",
    "import os\n",
    "from os import path, getcwd\n",
    "from PIL import Image\n",
    "import numpy as np\n",
    "import matplotlib.pyplot as plt\n",
    "from wordcloud import WordCloud, ImageColorGenerator"
   ]
  },
  {
   "cell_type": "code",
   "execution_count": 41,
   "metadata": {},
   "outputs": [
    {
     "data": {
      "image/png": "[encoded data removed]",
      "text/plain": [
       "<Figure size 720x1080 with 1 Axes>"
      ]
     },
     "metadata": {
      "needs_background": "light"
     },
     "output_type": "display_data"
    }
   ],
   "source": [
    "#Original Comments\n",
    "def show_wordcloud(data, title = None):\n",
    "    wordcloud = WordCloud(\n",
    "        background_color = 'white',\n",
    "        max_words = 500,\n",
    "        max_font_size = 40, \n",
    "        scale = 3,\n",
    "        random_state = 42\n",
    "    ).generate(str(data))\n",
    "\n",
    "    fig = plt.figure(1, figsize = (10, 15))\n",
    "    plt.axis('off')\n",
    "    if title: \n",
    "        fig.suptitle(title, fontsize = 20)\n",
    "        fig.subplots_adjust(top = 2)\n",
    "\n",
    "    plt.imshow(wordcloud)\n",
    "    plt.title(\"Most Common Words\",color = 'Blue',fontsize=20)\n",
    "    plt.show()\n",
    "    \n",
    "# print wordcloud\t\n",
    "\n",
    "\n",
    "show_wordcloud(zynga['All English'])"
   ]
  },
  {
   "cell_type": "code",
   "execution_count": 43,
   "metadata": {},
   "outputs": [
    {
     "data": {
      "text/html": [
       "<div>\n",
       "<style scoped>\n",
       "    .dataframe tbody tr th:only-of-type {\n",
       "        vertical-align: middle;\n",
       "    }\n",
       "\n",
       "    .dataframe tbody tr th {\n",
       "        vertical-align: top;\n",
       "    }\n",
       "\n",
       "    .dataframe thead th {\n",
       "        text-align: right;\n",
       "    }\n",
       "</style>\n",
       "<table border=\"1\" class=\"dataframe\">\n",
       "  <thead>\n",
       "    <tr style=\"text-align: right;\">\n",
       "      <th></th>\n",
       "      <th>Comment Message</th>\n",
       "      <th>pos</th>\n",
       "      <th>Likes</th>\n",
       "    </tr>\n",
       "  </thead>\n",
       "  <tbody>\n",
       "    <tr>\n",
       "      <th>96610</th>\n",
       "      <td>yehya khalilya hmar hayda byetla3ab w2t zan2a ...</td>\n",
       "      <td>1.000</td>\n",
       "      <td>0</td>\n",
       "    </tr>\n",
       "    <tr>\n",
       "      <th>94497</th>\n",
       "      <td>her yerde her platformda sizi åÿikayet edicem....</td>\n",
       "      <td>1.000</td>\n",
       "      <td>0</td>\n",
       "    </tr>\n",
       "    <tr>\n",
       "      <th>101901</th>\n",
       "      <td>straight  flush....3  to  7  of  diamonds.</td>\n",
       "      <td>1.000</td>\n",
       "      <td>0</td>\n",
       "    </tr>\n",
       "    <tr>\n",
       "      <th>44524</th>\n",
       "      <td>thanks            b</td>\n",
       "      <td>1.000</td>\n",
       "      <td>0</td>\n",
       "    </tr>\n",
       "    <tr>\n",
       "      <th>76876</th>\n",
       "      <td>b        thank you</td>\n",
       "      <td>1.000</td>\n",
       "      <td>0</td>\n",
       "    </tr>\n",
       "    <tr>\n",
       "      <th>40375</th>\n",
       "      <td>thank you, it has been fun and relaxing playin...</td>\n",
       "      <td>1.000</td>\n",
       "      <td>0</td>\n",
       "    </tr>\n",
       "    <tr>\n",
       "      <th>101689</th>\n",
       "      <td>the straight flush wins this hand. 3, 7 of dia...</td>\n",
       "      <td>0.919</td>\n",
       "      <td>0</td>\n",
       "    </tr>\n",
       "    <tr>\n",
       "      <th>40037</th>\n",
       "      <td>you're very welcome &amp; thank you for the huge g...</td>\n",
       "      <td>0.915</td>\n",
       "      <td>1</td>\n",
       "    </tr>\n",
       "    <tr>\n",
       "      <th>49782</th>\n",
       "      <td>congratulations to all the winners, thank you ...</td>\n",
       "      <td>0.911</td>\n",
       "      <td>0</td>\n",
       "    </tr>\n",
       "    <tr>\n",
       "      <th>96577</th>\n",
       "      <td>hand 1. pair of 5.. hand 2 is not a straight</td>\n",
       "      <td>0.892</td>\n",
       "      <td>6</td>\n",
       "    </tr>\n",
       "  </tbody>\n",
       "</table>\n",
       "</div>"
      ],
      "text/plain": [
       "                                          Comment Message    pos  Likes\n",
       "96610   yehya khalilya hmar hayda byetla3ab w2t zan2a ...  1.000      0\n",
       "94497   her yerde her platformda sizi åÿikayet edicem....  1.000      0\n",
       "101901         straight  flush....3  to  7  of  diamonds.  1.000      0\n",
       "44524                                 thanks            b  1.000      0\n",
       "76876                                  b        thank you  1.000      0\n",
       "40375   thank you, it has been fun and relaxing playin...  1.000      0\n",
       "101689  the straight flush wins this hand. 3, 7 of dia...  0.919      0\n",
       "40037   you're very welcome & thank you for the huge g...  0.915      1\n",
       "49782   congratulations to all the winners, thank you ...  0.911      0\n",
       "96577        hand 1. pair of 5.. hand 2 is not a straight  0.892      6"
      ]
     },
     "execution_count": 43,
     "metadata": {},
     "output_type": "execute_result"
    }
   ],
   "source": [
    "# highest positive sentiment reviews (with more than 5 words)\n",
    "zynga[zynga[\"nb_words\"] >= 10].sort_values(\"pos\", ascending = False)[[\"Comment Message\",\"pos\", \"Likes\"]].head(10)"
   ]
  },
  {
   "cell_type": "code",
   "execution_count": 44,
   "metadata": {},
   "outputs": [
    {
     "data": {
      "text/html": [
       "<div>\n",
       "<style scoped>\n",
       "    .dataframe tbody tr th:only-of-type {\n",
       "        vertical-align: middle;\n",
       "    }\n",
       "\n",
       "    .dataframe tbody tr th {\n",
       "        vertical-align: top;\n",
       "    }\n",
       "\n",
       "    .dataframe thead th {\n",
       "        text-align: right;\n",
       "    }\n",
       "</style>\n",
       "<table border=\"1\" class=\"dataframe\">\n",
       "  <thead>\n",
       "    <tr style=\"text-align: right;\">\n",
       "      <th></th>\n",
       "      <th>Comment Message</th>\n",
       "      <th>neg</th>\n",
       "      <th>Likes</th>\n",
       "    </tr>\n",
       "  </thead>\n",
       "  <tbody>\n",
       "    <tr>\n",
       "      <th>111687</th>\n",
       "      <td>sorry my mistke it is   136 982 475</td>\n",
       "      <td>1.000</td>\n",
       "      <td>0</td>\n",
       "    </tr>\n",
       "    <tr>\n",
       "      <th>90848</th>\n",
       "      <td>uã§k uã§k ã§a paska prit me tba zynga po mvjen...</td>\n",
       "      <td>1.000</td>\n",
       "      <td>0</td>\n",
       "    </tr>\n",
       "    <tr>\n",
       "      <th>91770</th>\n",
       "      <td>i lose 40b today, loss with 77 and i have kk</td>\n",
       "      <td>0.833</td>\n",
       "      <td>1</td>\n",
       "    </tr>\n",
       "    <tr>\n",
       "      <th>68930</th>\n",
       "      <td>all i get is error error error whatâ€™s going on</td>\n",
       "      <td>0.730</td>\n",
       "      <td>0</td>\n",
       "    </tr>\n",
       "    <tr>\n",
       "      <th>105178</th>\n",
       "      <td>not that i'm complaining, but i've had it for ...</td>\n",
       "      <td>0.714</td>\n",
       "      <td>0</td>\n",
       "    </tr>\n",
       "    <tr>\n",
       "      <th>95593</th>\n",
       "      <td>before zynga was beter than now now i dont lik...</td>\n",
       "      <td>0.678</td>\n",
       "      <td>0</td>\n",
       "    </tr>\n",
       "    <tr>\n",
       "      <th>38898</th>\n",
       "      <td>carol i have had the same problem i have had 1...</td>\n",
       "      <td>0.659</td>\n",
       "      <td>0</td>\n",
       "    </tr>\n",
       "    <tr>\n",
       "      <th>101657</th>\n",
       "      <td>straightflush but your gonna call with the boa...</td>\n",
       "      <td>0.659</td>\n",
       "      <td>0</td>\n",
       "    </tr>\n",
       "    <tr>\n",
       "      <th>78018</th>\n",
       "      <td>itâ€™s the beginning of the month.... they ste...</td>\n",
       "      <td>0.658</td>\n",
       "      <td>0</td>\n",
       "    </tr>\n",
       "    <tr>\n",
       "      <th>107131</th>\n",
       "      <td>as confused as we are because the falls aren't...</td>\n",
       "      <td>0.655</td>\n",
       "      <td>1</td>\n",
       "    </tr>\n",
       "  </tbody>\n",
       "</table>\n",
       "</div>"
      ],
      "text/plain": [
       "                                          Comment Message    neg  Likes\n",
       "111687                sorry my mistke it is   136 982 475  1.000      0\n",
       "90848   uã§k uã§k ã§a paska prit me tba zynga po mvjen...  1.000      0\n",
       "91770        i lose 40b today, loss with 77 and i have kk  0.833      1\n",
       "68930    all i get is error error error whatâ€™s going on  0.730      0\n",
       "105178  not that i'm complaining, but i've had it for ...  0.714      0\n",
       "95593   before zynga was beter than now now i dont lik...  0.678      0\n",
       "38898   carol i have had the same problem i have had 1...  0.659      0\n",
       "101657  straightflush but your gonna call with the boa...  0.659      0\n",
       "78018   itâ€™s the beginning of the month.... they ste...  0.658      0\n",
       "107131  as confused as we are because the falls aren't...  0.655      1"
      ]
     },
     "execution_count": 44,
     "metadata": {},
     "output_type": "execute_result"
    }
   ],
   "source": [
    "# lowest negative sentiment reviews (with more than 5 words)\n",
    "zynga[zynga[\"nb_words\"] >= 10].sort_values(\"neg\", ascending = False)[[\"Comment Message\",\"neg\", \"Likes\"]].head(10)"
   ]
  },
  {
   "cell_type": "code",
   "execution_count": 45,
   "metadata": {},
   "outputs": [
    {
     "name": "stderr",
     "output_type": "stream",
     "text": [
      "C:\\Users\\julie diana\\Anaconda3\\lib\\site-packages\\scipy\\stats\\stats.py:1713: FutureWarning: Using a non-tuple sequence for multidimensional indexing is deprecated; use `arr[tuple(seq)]` instead of `arr[seq]`. In the future this will be interpreted as an array index, `arr[np.array(seq)]`, which will result either in an error or a different result.\n",
      "  return np.add.reduce(sorted[indexer] * weights, axis=axis) / sumval\n"
     ]
    },
    {
     "data": {
      "image/png": "[encoded data removed]",
      "text/plain": [
       "<Figure size 432x288 with 1 Axes>"
      ]
     },
     "metadata": {
      "needs_background": "light"
     },
     "output_type": "display_data"
    }
   ],
   "source": [
    "# plot sentiment distribution for positive and negative reviews. This is the imbalanced class\n",
    "import seaborn as sns\n",
    "\n",
    "for x in [0, 1]:\n",
    "    subset = zynga[zynga['Reply'] == x]\n",
    "    \n",
    "    # Draw the density plot\n",
    "    if x == 0:\n",
    "        label = \"No Reply\"\n",
    "    else:\n",
    "        label = \"With Reply\"\n",
    "    sns.distplot(subset['compound'], hist = False, label = label)"
   ]
  },
  {
   "cell_type": "code",
   "execution_count": 46,
   "metadata": {},
   "outputs": [],
   "source": [
    "#using smothe to balance the class\n",
    "#pip install imblearn\n",
    "#from imblearn.over_sampling import SMOTE"
   ]
  },
  {
   "cell_type": "raw",
   "metadata": {},
   "source": [
    "MODELLING"
   ]
  },
  {
   "cell_type": "code",
   "execution_count": 47,
   "metadata": {},
   "outputs": [
    {
     "data": {
      "text/plain": [
       "Index(['Comment Message', 'Reply', 'Likes', 'Game Type', 'Comment  Date',\n",
       "       'Clean Comment', 'All English', 'neg', 'neu', 'pos',\n",
       "       ...\n",
       "       'word_wrong', 'word_ya', 'word_yeah', 'word_year', 'word_yes',\n",
       "       'word_yesterday', 'word_yet', 'word_yo', 'word_you', 'word_zero'],\n",
       "      dtype='object', length=543)"
      ]
     },
     "execution_count": 47,
     "metadata": {},
     "output_type": "execute_result"
    }
   ],
   "source": [
    "zynga.columns"
   ]
  },
  {
   "cell_type": "code",
   "execution_count": 48,
   "metadata": {},
   "outputs": [],
   "source": [
    "# feature selection\n",
    "label = \"Reply\"\n",
    "ignore_cols = [label, \"Comment Message\", \"Clean Comment\", \"Likes\", \"Game Type\", \"All English\", \"Comment  Date\"]\n",
    "features = [c for c in zynga.columns if c not in ignore_cols]\n",
    "\n",
    "# split the data into train and test\n",
    "from sklearn.ensemble import RandomForestClassifier\n",
    "from sklearn.model_selection import train_test_split\n",
    "\n",
    "X_train, X_test, y_train, y_test = train_test_split(zynga[features], zynga[label], test_size = 0.20, random_state = 42)"
   ]
  },
  {
   "cell_type": "code",
   "execution_count": 49,
   "metadata": {},
   "outputs": [
    {
     "data": {
      "text/plain": [
       "0    8184\n",
       "1    1027\n",
       "Name: Reply, dtype: int64"
      ]
     },
     "execution_count": 49,
     "metadata": {},
     "output_type": "execute_result"
    }
   ],
   "source": [
    "#here you can see imbalance in the dataset\n",
    "y_train.value_counts()"
   ]
  },
  {
   "cell_type": "code",
   "execution_count": 50,
   "metadata": {},
   "outputs": [],
   "source": [
    "from sklearn.linear_model import LogisticRegression\n",
    "from sklearn.metrics import confusion_matrix, classification_report, accuracy_score, recall_score"
   ]
  },
  {
   "cell_type": "code",
   "execution_count": 51,
   "metadata": {},
   "outputs": [],
   "source": [
    "#fit SMOTE\n",
    "from imblearn.over_sampling import SMOTE\n",
    "\n",
    "smt = SMOTE()\n",
    "X_train, y_train = smt.fit_sample(X_train, y_train)"
   ]
  },
  {
   "cell_type": "code",
   "execution_count": 53,
   "metadata": {},
   "outputs": [
    {
     "data": {
      "text/plain": [
       "array([8184, 8184], dtype=int64)"
      ]
     },
     "execution_count": 53,
     "metadata": {},
     "output_type": "execute_result"
    }
   ],
   "source": [
    "#now recheck the amount of records in each category\n",
    "np.bincount(y_train)"
   ]
  },
  {
   "cell_type": "code",
   "execution_count": 54,
   "metadata": {},
   "outputs": [
    {
     "data": {
      "image/png": "[encoded data removed]",
      "text/plain": [
       "<Figure size 432x288 with 1 Axes>"
      ]
     },
     "metadata": {
      "needs_background": "light"
     },
     "output_type": "display_data"
    }
   ],
   "source": [
    ">>> df = pd.DataFrame({'Reply_SMOTE':['0', '1'], ' ':[8184, 8184]})\n",
    ">>> ax = df.plot.bar(x='Reply_SMOTE', y=' ', rot=1)\n"
   ]
  },
  {
   "cell_type": "code",
   "execution_count": 55,
   "metadata": {},
   "outputs": [
    {
     "name": "stderr",
     "output_type": "stream",
     "text": [
      "C:\\Users\\julie diana\\Anaconda3\\lib\\site-packages\\sklearn\\linear_model\\logistic.py:432: FutureWarning: Default solver will be changed to 'lbfgs' in 0.22. Specify a solver to silence this warning.\n",
      "  FutureWarning)\n"
     ]
    },
    {
     "data": {
      "text/plain": [
       "0.790273556231003"
      ]
     },
     "execution_count": 55,
     "metadata": {},
     "output_type": "execute_result"
    }
   ],
   "source": [
    "lr = LogisticRegression()\n",
    "lr.fit(X_train, y_train)\n",
    "y_pred = lr.predict(X_test)\n",
    "accuracy_score(y_test, y_pred)"
   ]
  },
  {
   "cell_type": "code",
   "execution_count": 56,
   "metadata": {},
   "outputs": [],
   "source": [
    "from sklearn.metrics import average_precision_score, precision_recall_curve\n",
    "from funcsigs import signature"
   ]
  },
  {
   "cell_type": "code",
   "execution_count": 57,
   "metadata": {},
   "outputs": [
    {
     "data": {
      "text/plain": [
       "0.790273556231003"
      ]
     },
     "execution_count": 57,
     "metadata": {},
     "output_type": "execute_result"
    }
   ],
   "source": [
    "#fitting the classifier\n",
    "accuracy_score(y_test, y_pred)"
   ]
  },
  {
   "cell_type": "code",
   "execution_count": 58,
   "metadata": {},
   "outputs": [
    {
     "data": {
      "text/plain": [
       "array([[1632,  421],\n",
       "       [  62,  188]], dtype=int64)"
      ]
     },
     "execution_count": 58,
     "metadata": {},
     "output_type": "execute_result"
    }
   ],
   "source": [
    "#checking confusion matrix\n",
    "confusion_matrix(y_test, y_pred)"
   ]
  },
  {
   "cell_type": "code",
   "execution_count": 59,
   "metadata": {},
   "outputs": [
    {
     "data": {
      "text/plain": [
       "0.752"
      ]
     },
     "execution_count": 59,
     "metadata": {},
     "output_type": "execute_result"
    }
   ],
   "source": [
    "#checking recall score\n",
    "recall_score(y_test, y_pred)"
   ]
  },
  {
   "cell_type": "code",
   "execution_count": 60,
   "metadata": {},
   "outputs": [
    {
     "data": {
      "text/plain": [
       "0.25906590603959856"
      ]
     },
     "execution_count": 60,
     "metadata": {},
     "output_type": "execute_result"
    }
   ],
   "source": [
    "#checking recall score\n",
    "average_precision_score(y_test, y_pred)"
   ]
  },
  {
   "cell_type": "code",
   "execution_count": 61,
   "metadata": {},
   "outputs": [
    {
     "data": {
      "text/html": [
       "<div>\n",
       "<style scoped>\n",
       "    .dataframe tbody tr th:only-of-type {\n",
       "        vertical-align: middle;\n",
       "    }\n",
       "\n",
       "    .dataframe tbody tr th {\n",
       "        vertical-align: top;\n",
       "    }\n",
       "\n",
       "    .dataframe thead th {\n",
       "        text-align: right;\n",
       "    }\n",
       "</style>\n",
       "<table border=\"1\" class=\"dataframe\">\n",
       "  <thead>\n",
       "    <tr style=\"text-align: right;\">\n",
       "      <th></th>\n",
       "      <th>feature</th>\n",
       "      <th>importance</th>\n",
       "    </tr>\n",
       "  </thead>\n",
       "  <tbody>\n",
       "    <tr>\n",
       "      <th>4</th>\n",
       "      <td>nb_chars</td>\n",
       "      <td>0.116599</td>\n",
       "    </tr>\n",
       "    <tr>\n",
       "      <th>5</th>\n",
       "      <td>nb_words</td>\n",
       "      <td>0.089620</td>\n",
       "    </tr>\n",
       "    <tr>\n",
       "      <th>9</th>\n",
       "      <td>doc2vec_vector_3</td>\n",
       "      <td>0.056628</td>\n",
       "    </tr>\n",
       "    <tr>\n",
       "      <th>8</th>\n",
       "      <td>doc2vec_vector_2</td>\n",
       "      <td>0.055260</td>\n",
       "    </tr>\n",
       "    <tr>\n",
       "      <th>1</th>\n",
       "      <td>neu</td>\n",
       "      <td>0.047191</td>\n",
       "    </tr>\n",
       "    <tr>\n",
       "      <th>6</th>\n",
       "      <td>doc2vec_vector_0</td>\n",
       "      <td>0.041265</td>\n",
       "    </tr>\n",
       "    <tr>\n",
       "      <th>7</th>\n",
       "      <td>doc2vec_vector_1</td>\n",
       "      <td>0.040144</td>\n",
       "    </tr>\n",
       "    <tr>\n",
       "      <th>10</th>\n",
       "      <td>doc2vec_vector_4</td>\n",
       "      <td>0.039053</td>\n",
       "    </tr>\n",
       "    <tr>\n",
       "      <th>2</th>\n",
       "      <td>pos</td>\n",
       "      <td>0.037479</td>\n",
       "    </tr>\n",
       "    <tr>\n",
       "      <th>3</th>\n",
       "      <td>compound</td>\n",
       "      <td>0.036518</td>\n",
       "    </tr>\n",
       "    <tr>\n",
       "      <th>464</th>\n",
       "      <td>word_thanks</td>\n",
       "      <td>0.025456</td>\n",
       "    </tr>\n",
       "    <tr>\n",
       "      <th>93</th>\n",
       "      <td>word_coin</td>\n",
       "      <td>0.022288</td>\n",
       "    </tr>\n",
       "    <tr>\n",
       "      <th>0</th>\n",
       "      <td>neg</td>\n",
       "      <td>0.017394</td>\n",
       "    </tr>\n",
       "    <tr>\n",
       "      <th>196</th>\n",
       "      <td>word_get</td>\n",
       "      <td>0.014158</td>\n",
       "    </tr>\n",
       "    <tr>\n",
       "      <th>463</th>\n",
       "      <td>word_thank</td>\n",
       "      <td>0.013591</td>\n",
       "    </tr>\n",
       "    <tr>\n",
       "      <th>354</th>\n",
       "      <td>word_play</td>\n",
       "      <td>0.008899</td>\n",
       "    </tr>\n",
       "    <tr>\n",
       "      <th>129</th>\n",
       "      <td>word_different</td>\n",
       "      <td>0.007485</td>\n",
       "    </tr>\n",
       "    <tr>\n",
       "      <th>194</th>\n",
       "      <td>word_game</td>\n",
       "      <td>0.006568</td>\n",
       "    </tr>\n",
       "    <tr>\n",
       "      <th>476</th>\n",
       "      <td>word_time</td>\n",
       "      <td>0.006128</td>\n",
       "    </tr>\n",
       "    <tr>\n",
       "      <th>20</th>\n",
       "      <td>word_agree</td>\n",
       "      <td>0.006019</td>\n",
       "    </tr>\n",
       "  </tbody>\n",
       "</table>\n",
       "</div>"
      ],
      "text/plain": [
       "              feature  importance\n",
       "4            nb_chars    0.116599\n",
       "5            nb_words    0.089620\n",
       "9    doc2vec_vector_3    0.056628\n",
       "8    doc2vec_vector_2    0.055260\n",
       "1                 neu    0.047191\n",
       "6    doc2vec_vector_0    0.041265\n",
       "7    doc2vec_vector_1    0.040144\n",
       "10   doc2vec_vector_4    0.039053\n",
       "2                 pos    0.037479\n",
       "3            compound    0.036518\n",
       "464       word_thanks    0.025456\n",
       "93          word_coin    0.022288\n",
       "0                 neg    0.017394\n",
       "196          word_get    0.014158\n",
       "463        word_thank    0.013591\n",
       "354         word_play    0.008899\n",
       "129    word_different    0.007485\n",
       "194         word_game    0.006568\n",
       "476         word_time    0.006128\n",
       "20         word_agree    0.006019"
      ]
     },
     "execution_count": 61,
     "metadata": {},
     "output_type": "execute_result"
    }
   ],
   "source": [
    "# train a random forest classifier\n",
    "rf = RandomForestClassifier(n_estimators = 100, random_state = 42)\n",
    "rf.fit(X_train, y_train)\n",
    "\n",
    "# show feature importance\n",
    "feature_importances_df = pd.DataFrame({\"feature\": features, \"importance\": rf.feature_importances_}).sort_values(\"importance\", ascending = False)\n",
    "feature_importances_df.head(20)"
   ]
  },
  {
   "cell_type": "code",
   "execution_count": 64,
   "metadata": {},
   "outputs": [
    {
     "data": {
      "image/png": "[encoded data removed]",
      "text/plain": [
       "<Figure size 1080x720 with 1 Axes>"
      ]
     },
     "metadata": {
      "needs_background": "light"
     },
     "output_type": "display_data"
    }
   ],
   "source": [
    "# ROC curve\n",
    "\n",
    "from sklearn.metrics import roc_curve, auc, roc_auc_score\n",
    "import matplotlib.pyplot as plt\n",
    "\n",
    "y_pred = [x[1] for x in rf.predict_proba(X_test)]\n",
    "fpr, tpr, thresholds = roc_curve(y_test, y_pred, pos_label = 1)\n",
    "\n",
    "roc_auc = auc(fpr, tpr)\n",
    "\n",
    "plt.figure(1, figsize = (15, 10))\n",
    "lw = 2\n",
    "plt.plot(fpr, tpr, color='darkorange',\n",
    "         lw=lw, label='ROC curve (area = %0.2f)' % roc_auc)\n",
    "plt.plot([0, 1], [0, 1], lw=lw, linestyle='--')\n",
    "plt.xlim([0.0, 1.0])\n",
    "plt.ylim([0.0, 1.0])\n",
    "plt.xlabel('False Positive Rate')\n",
    "plt.ylabel('True Positive Rate')\n",
    "plt.title('Receiver operating characteristic')\n",
    "plt.legend(loc=\"lower right\")\n",
    "plt.show()"
   ]
  },
  {
   "cell_type": "code",
   "execution_count": 65,
   "metadata": {},
   "outputs": [
    {
     "data": {
      "text/plain": [
       "Text(0.5, 1.0, '2-class Precision-Recall curve: AP=0.39')"
      ]
     },
     "execution_count": 65,
     "metadata": {},
     "output_type": "execute_result"
    },
    {
     "data": {
      "image/png": "[encoded data removed]",
      "text/plain": [
       "<Figure size 1080x720 with 1 Axes>"
      ]
     },
     "metadata": {
      "needs_background": "light"
     },
     "output_type": "display_data"
    }
   ],
   "source": [
    "# PR curve\n",
    "average_precision = average_precision_score(y_test, y_pred)\n",
    "\n",
    "precision, recall, _ = precision_recall_curve(y_test, y_pred)\n",
    "\n",
    "# In matplotlib < 1.5, plt.fill_between does not have a 'step' argument\n",
    "step_kwargs = ({'step': 'post'}\n",
    "               if 'step' in signature(plt.fill_between).parameters\n",
    "               else {})\n",
    "\n",
    "plt.figure(1, figsize = (15, 10))\n",
    "plt.step(recall, precision, color='b', alpha=0.2,\n",
    "         where='post')\n",
    "plt.fill_between(recall, precision, alpha=0.2, color='b', **step_kwargs)\n",
    "\n",
    "plt.xlabel('Recall')\n",
    "plt.ylabel('Precision')\n",
    "plt.ylim([0.0, 1.05])\n",
    "plt.xlim([0.0, 1.0])\n",
    "plt.title('2-class Precision-Recall curve: AP={0:0.2f}'.format(average_precision))\n"
   ]
  }
 ],
 "metadata": {
  "kernelspec": {
   "display_name": "Python 3",
   "language": "python",
   "name": "python3"
  },
  "language_info": {
   "codemirror_mode": {
    "name": "ipython",
    "version": 3
   },
   "file_extension": ".py",
   "mimetype": "text/x-python",
   "name": "python",
   "nbconvert_exporter": "python",
   "pygments_lexer": "ipython3",
   "version": "3.7.3"
  }
 },
 "nbformat": 4,
 "nbformat_minor": 2
}
